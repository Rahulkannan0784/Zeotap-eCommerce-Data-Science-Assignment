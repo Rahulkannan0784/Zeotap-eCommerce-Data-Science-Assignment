{
  "nbformat": 4,
  "nbformat_minor": 0,
  "metadata": {
    "colab": {
      "provenance": []
    },
    "kernelspec": {
      "name": "python3",
      "display_name": "Python 3"
    },
    "language_info": {
      "name": "python"
    }
  },
  "cells": [
    {
      "cell_type": "markdown",
      "source": [
        "#Customer Segmentation with K-Means"
      ],
      "metadata": {
        "id": "GTSFrJ1pKb-0"
      }
    },
    {
      "cell_type": "code",
      "execution_count": 12,
      "metadata": {
        "id": "hUl7rE8rG3Hc"
      },
      "outputs": [],
      "source": [
        "# Import necessary libraries\n",
        "import pandas as pd\n",
        "import numpy as np\n",
        "from sklearn.cluster import KMeans\n",
        "from sklearn.preprocessing import StandardScaler\n",
        "from sklearn.decomposition import PCA\n",
        "from sklearn.metrics import davies_bouldin_score, silhouette_score\n",
        "import plotly.express as px\n",
        "\n",
        "# Load the datasets\n",
        "customers = pd.read_csv('Customers.csv')\n",
        "transactions = pd.read_csv('Transactions.csv')\n",
        "\n",
        "# Merge the data on CustomerID\n",
        "data = pd.merge(transactions, customers, on='CustomerID', how='inner')\n",
        "\n"
      ]
    },
    {
      "cell_type": "code",
      "source": [
        "# Feature engineering: aggregate transaction data for each customer (e.g., total spending, number of transactions)\n",
        "customer_data = data.groupby('CustomerID').agg(\n",
        "    total_spending=('TotalValue', 'sum'),\n",
        "    num_transactions=('TransactionID', 'count'),\n",
        "    avg_price=('Price', 'mean')\n",
        ").reset_index()\n",
        "\n"
      ],
      "metadata": {
        "id": "qV3pifb0VY0a"
      },
      "execution_count": 13,
      "outputs": []
    },
    {
      "cell_type": "code",
      "source": [
        "# Merge the aggregated transaction data with customer profile data\n",
        "customer_profile = pd.merge(customer_data, customers[['CustomerID', 'Region']], on='CustomerID', how='left')\n",
        "\n",
        "# Data Preprocessing: Standardize the data\n",
        "features = customer_profile[['total_spending', 'num_transactions', 'avg_price']]\n",
        "scaler = StandardScaler()\n",
        "scaled_features = scaler.fit_transform(features)\n",
        "\n"
      ],
      "metadata": {
        "id": "hs8krL6DVcbi"
      },
      "execution_count": 14,
      "outputs": []
    },
    {
      "cell_type": "code",
      "source": [
        "# Set the number of clusters (between 2 and 10)\n",
        "num_clusters = 5  # Change this based on your choice (experiment with 2-10 clusters)\n",
        "\n"
      ],
      "metadata": {
        "id": "cEzJEzLiVf9M"
      },
      "execution_count": 15,
      "outputs": []
    },
    {
      "cell_type": "code",
      "source": [
        "# K-Means Clustering\n",
        "kmeans = KMeans(n_clusters=num_clusters, random_state=42)\n",
        "customer_profile['Cluster'] = kmeans.fit_predict(scaled_features) + 1\n"
      ],
      "metadata": {
        "id": "M5ZMq5phVi_U"
      },
      "execution_count": 16,
      "outputs": []
    },
    {
      "cell_type": "code",
      "source": [
        "\n",
        "# Calculate clustering metrics\n",
        "db_index = davies_bouldin_score(scaled_features, customer_profile['Cluster'])\n",
        "silhouette_avg = silhouette_score(scaled_features, customer_profile['Cluster'])\n",
        "\n",
        "# Print the clustering metrics\n",
        "print(f\"Number of Clusters: {num_clusters}\")\n",
        "print(f\"DB Index: {db_index}\")\n",
        "print(f\"Silhouette Score: {silhouette_avg}\")\n"
      ],
      "metadata": {
        "colab": {
          "base_uri": "https://localhost:8080/"
        },
        "id": "6es8UX36Vm7T",
        "outputId": "5e672d70-938b-47ff-d6a7-c95e3f568fc4"
      },
      "execution_count": 17,
      "outputs": [
        {
          "output_type": "stream",
          "name": "stdout",
          "text": [
            "Number of Clusters: 5\n",
            "DB Index: 0.9427359293109949\n",
            "Silhouette Score: 0.3095796428769709\n"
          ]
        }
      ]
    },
    {
      "cell_type": "code",
      "source": [
        "\n",
        "# Cluster Profiling: Analyzing each cluster's characteristics\n",
        "cluster_profile = customer_profile.groupby('Cluster').agg(\n",
        "    avg_total_spending=('total_spending', 'mean'),\n",
        "    avg_num_transactions=('num_transactions', 'mean'),\n",
        "    avg_avg_price=('avg_price', 'mean')\n",
        ").reset_index()\n",
        "\n",
        "print(\"\\nCluster Profiling:\")\n",
        "print(cluster_profile)\n"
      ],
      "metadata": {
        "colab": {
          "base_uri": "https://localhost:8080/"
        },
        "id": "GPQVvZA7Vq0_",
        "outputId": "9180c753-d9d2-4320-9f93-2300c67ba0e2"
      },
      "execution_count": 18,
      "outputs": [
        {
          "output_type": "stream",
          "name": "stdout",
          "text": [
            "\n",
            "Cluster Profiling:\n",
            "   Cluster  avg_total_spending  avg_num_transactions  avg_avg_price\n",
            "0        1         6075.814359              8.102564     281.756511\n",
            "1        2         3469.361690              5.563380     261.751267\n",
            "2        3         1393.015517              3.206897     166.593580\n",
            "3        4         1671.106333              2.633333     283.176333\n",
            "4        5         3872.782667              3.900000     372.656050\n"
          ]
        }
      ]
    },
    {
      "cell_type": "code",
      "source": [
        "\n",
        "# PCA for dimensionality reduction (to reduce to 2D for visualization)\n",
        "pca = PCA(n_components=2)\n",
        "pca_components = pca.fit_transform(scaled_features)\n"
      ],
      "metadata": {
        "id": "OHJ0vRy0Vtzd"
      },
      "execution_count": 19,
      "outputs": []
    },
    {
      "cell_type": "code",
      "source": [
        "\n",
        "# Add the PCA components to the dataframe for visualization\n",
        "customer_profile['PCA1'] = pca_components[:, 0]\n",
        "customer_profile['PCA2'] = pca_components[:, 1]\n"
      ],
      "metadata": {
        "id": "PtLbhv71Vwc9"
      },
      "execution_count": 20,
      "outputs": []
    },
    {
      "cell_type": "code",
      "source": [
        "# Visualize the clusters with an interactive plot using Plotly\n",
        "fig = px.scatter(customer_profile, x='PCA1', y='PCA2', color='Cluster',\n",
        "                 hover_data=['CustomerID', 'Region', 'avg_price'],\n",
        "                 title='Customer Segmentation with K-Means Clustering (PCA Reduced)',\n",
        "                 labels={'PCA1': 'PCA Component 1', 'PCA2': 'PCA Component 2'})\n",
        "\n",
        "# Show the plot\n",
        "fig.show()\n"
      ],
      "metadata": {
        "colab": {
          "base_uri": "https://localhost:8080/",
          "height": 542
        },
        "id": "wxzQhV3_Vy7i",
        "outputId": "3ad0a49e-b2ca-4dd2-9c23-d1f2922c573a"
      },
      "execution_count": 21,
      "outputs": [
        {
          "output_type": "display_data",
          "data": {
            "text/html": [
              "<html>\n",
              "<head><meta charset=\"utf-8\" /></head>\n",
              "<body>\n",
              "    <div>            <script src=\"https://cdnjs.cloudflare.com/ajax/libs/mathjax/2.7.5/MathJax.js?config=TeX-AMS-MML_SVG\"></script><script type=\"text/javascript\">if (window.MathJax && window.MathJax.Hub && window.MathJax.Hub.Config) {window.MathJax.Hub.Config({SVG: {font: \"STIX-Web\"}});}</script>                <script type=\"text/javascript\">window.PlotlyConfig = {MathJaxConfig: 'local'};</script>\n",
              "        <script charset=\"utf-8\" src=\"https://cdn.plot.ly/plotly-2.35.2.min.js\"></script>                <div id=\"e87dee7c-506d-4640-a725-2a087cf7bb74\" class=\"plotly-graph-div\" style=\"height:525px; width:100%;\"></div>            <script type=\"text/javascript\">                                    window.PLOTLYENV=window.PLOTLYENV || {};                                    if (document.getElementById(\"e87dee7c-506d-4640-a725-2a087cf7bb74\")) {                    Plotly.newPlot(                        \"e87dee7c-506d-4640-a725-2a087cf7bb74\",                        [{\"customdata\":[[\"C0001\",\"South America\",278.334],[\"C0002\",\"Asia\",208.92],[\"C0003\",\"South America\",195.70749999999998],[\"C0004\",\"South America\",240.63625000000002],[\"C0005\",\"Asia\",291.6033333333333],[\"C0006\",\"South America\",332.03499999999997],[\"C0007\",\"Asia\",350.02],[\"C0008\",\"North America\",231.16],[\"C0009\",\"Europe\",298.8333333333333],[\"C0010\",\"Europe\",153.27],[\"C0011\",\"South America\",292.628],[\"C0012\",\"South America\",270.7985714285714],[\"C0013\",\"South America\",320.79],[\"C0014\",\"Europe\",159.33],[\"C0015\",\"North America\",355.78999999999996],[\"C0016\",\"North America\",391.35],[\"C0017\",\"Europe\",225.785],[\"C0018\",\"North America\",254.33800000000002],[\"C0019\",\"Europe\",240.63333333333333],[\"C0020\",\"North America\",307.47],[\"C0021\",\"Asia\",308.57625],[\"C0022\",\"Asia\",279.3983333333333],[\"C0023\",\"Europe\",394.53666666666663],[\"C0024\",\"North America\",298.0314285714286],[\"C0025\",\"South America\",182.9375],[\"C0026\",\"North America\",315.91],[\"C0027\",\"Asia\",233.5375],[\"C0028\",\"Asia\",288.61125],[\"C0029\",\"North America\",207.8175],[\"C0030\",\"North America\",222.82399999999998],[\"C0031\",\"South America\",234.61],[\"C0032\",\"South America\",181.5],[\"C0033\",\"North America\",66.32],[\"C0034\",\"North America\",194.31333333333336],[\"C0035\",\"North America\",234.66750000000002],[\"C0036\",\"North America\",227.47333333333336],[\"C0037\",\"Europe\",299.096],[\"C0038\",\"North America\",200.71800000000002],[\"C0039\",\"South America\",216.85],[\"C0040\",\"Asia\",397.34],[\"C0041\",\"Europe\",254.28285714285715],[\"C0042\",\"North America\",411.62999999999994],[\"C0043\",\"Asia\",188.55333333333337],[\"C0044\",\"Europe\",429.00333333333333],[\"C0045\",\"Asia\",267.73285714285714],[\"C0046\",\"North America\",288.81142857142856],[\"C0047\",\"North America\",254.77857142857144],[\"C0048\",\"South America\",355.77799999999996],[\"C0049\",\"North America\",158.51125],[\"C0050\",\"North America\",395.2733333333333],[\"C0051\",\"Europe\",314.3457142857143],[\"C0052\",\"South America\",246.5975],[\"C0053\",\"Europe\",253.66666666666666],[\"C0054\",\"Asia\",330.48875],[\"C0055\",\"North America\",228.844],[\"C0056\",\"Asia\",308.556],[\"C0057\",\"Europe\",263.0133333333333],[\"C0058\",\"North America\",396.34],[\"C0059\",\"North America\",355.46375],[\"C0060\",\"Europe\",41.18],[\"C0061\",\"Europe\",292.0833333333333],[\"C0062\",\"Europe\",215.85999999999999],[\"C0063\",\"Europe\",210.075],[\"C0064\",\"Europe\",294.536],[\"C0065\",\"North America\",275.8],[\"C0066\",\"Europe\",405.1666666666667],[\"C0067\",\"North America\",286.17333333333335],[\"C0068\",\"North America\",256.77375],[\"C0069\",\"Europe\",282.048],[\"C0070\",\"Europe\",280.565],[\"C0071\",\"South America\",183.25],[\"C0072\",\"North America\",209.06599999999997],[\"C0073\",\"Europe\",250.00666666666666],[\"C0074\",\"Europe\",377.91],[\"C0075\",\"Europe\",219.49222222222224],[\"C0076\",\"South America\",267.524],[\"C0077\",\"South America\",170.66666666666666],[\"C0078\",\"Asia\",497.76],[\"C0079\",\"North America\",358.8675],[\"C0080\",\"Asia\",335.84],[\"C0081\",\"Europe\",236.59333333333333],[\"C0082\",\"South America\",352.31],[\"C0083\",\"South America\",195.16666666666666],[\"C0084\",\"Asia\",222.66333333333333],[\"C0085\",\"South America\",350.45],[\"C0086\",\"Europe\",252.14000000000001],[\"C0087\",\"South America\",296.74142857142857],[\"C0088\",\"Asia\",231.378],[\"C0089\",\"Europe\",356.475],[\"C0090\",\"Asia\",245.4157142857143],[\"C0091\",\"South America\",143.54166666666666],[\"C0092\",\"Asia\",300.4625],[\"C0093\",\"Asia\",272.8666666666667],[\"C0094\",\"North America\",157.1275],[\"C0095\",\"South America\",216.725],[\"C0096\",\"South America\",373.76599999999996],[\"C0097\",\"Asia\",137.54],[\"C0098\",\"North America\",266.97375],[\"C0099\",\"South America\",314.73375],[\"C0100\",\"Europe\",353.51666666666665],[\"C0101\",\"Asia\",270.65375],[\"C0102\",\"South America\",296.155],[\"C0103\",\"Europe\",319.012],[\"C0104\",\"South America\",331.405],[\"C0105\",\"Europe\",258.425],[\"C0106\",\"Asia\",238.95],[\"C0107\",\"South America\",304.898],[\"C0108\",\"South America\",259.18285714285713],[\"C0109\",\"North America\",198.5581818181818],[\"C0110\",\"Asia\",235.58],[\"C0111\",\"Europe\",122.94000000000001],[\"C0112\",\"South America\",203.78333333333333],[\"C0113\",\"South America\",220.77125],[\"C0114\",\"Europe\",330.368],[\"C0115\",\"Asia\",388.06333333333333],[\"C0116\",\"North America\",298.60833333333335],[\"C0117\",\"North America\",298.58750000000003],[\"C0118\",\"South America\",313.43833333333333],[\"C0119\",\"Europe\",207.68400000000003],[\"C0120\",\"South America\",298.0833333333333],[\"C0121\",\"Europe\",112.66999999999999],[\"C0122\",\"North America\",293.2128571428571],[\"C0123\",\"Asia\",282.65999999999997],[\"C0124\",\"Europe\",263.3757142857143],[\"C0125\",\"North America\",315.3775],[\"C0126\",\"South America\",296.745],[\"C0127\",\"Europe\",321.0466666666667],[\"C0128\",\"Asia\",306.93],[\"C0129\",\"South America\",262.38],[\"C0130\",\"South America\",300.68],[\"C0131\",\"North America\",313.10999999999996],[\"C0132\",\"Europe\",259.22666666666663],[\"C0133\",\"South America\",305.725],[\"C0134\",\"Asia\",166.128],[\"C0135\",\"Europe\",300.43],[\"C0136\",\"Asia\",200.03333333333333],[\"C0137\",\"South America\",288.63599999999997],[\"C0138\",\"Asia\",343.11800000000005],[\"C0139\",\"North America\",302.485],[\"C0140\",\"Asia\",287.59499999999997],[\"C0141\",\"Europe\",385.706],[\"C0142\",\"Asia\",192.9325],[\"C0143\",\"Asia\",271.60285714285715],[\"C0144\",\"North America\",163.08499999999998],[\"C0145\",\"Asia\",289.39],[\"C0146\",\"Asia\",336.62],[\"C0147\",\"South America\",231.78666666666666],[\"C0148\",\"South America\",306.404],[\"C0149\",\"Europe\",279.096],[\"C0150\",\"South America\",290.17],[\"C0151\",\"South America\",55.99],[\"C0152\",\"South America\",267.014],[\"C0153\",\"South America\",271.59999999999997],[\"C0154\",\"North America\",303.48333333333335],[\"C0155\",\"South America\",346.7085714285714],[\"C0156\",\"North America\",289.0581818181818],[\"C0157\",\"North America\",196.23600000000002],[\"C0158\",\"South America\",379.8975],[\"C0159\",\"Asia\",245.28],[\"C0160\",\"North America\",235.51400000000004],[\"C0161\",\"Asia\",239.4025],[\"C0162\",\"Asia\",255.94875000000002],[\"C0163\",\"South America\",293.94],[\"C0164\",\"Europe\",277.20799999999997],[\"C0165\",\"South America\",205.2711111111111],[\"C0166\",\"Europe\",247.5975],[\"C0167\",\"Europe\",287.8433333333333],[\"C0168\",\"South America\",402.6525],[\"C0169\",\"South America\",194.13333333333333],[\"C0170\",\"Europe\",325.412],[\"C0171\",\"South America\",321.918],[\"C0172\",\"Europe\",207.39166666666665],[\"C0173\",\"Asia\",288.06624999999997],[\"C0174\",\"South America\",231.01799999999997],[\"C0175\",\"Asia\",260.89700000000005],[\"C0176\",\"North America\",194.27666666666667],[\"C0177\",\"Asia\",260.3275],[\"C0178\",\"Asia\",231.09000000000003],[\"C0179\",\"Europe\",258.97499999999997],[\"C0181\",\"South America\",265.26166666666666],[\"C0182\",\"Europe\",271.066],[\"C0183\",\"North America\",298.142],[\"C0184\",\"South America\",337.93857142857144],[\"C0185\",\"North America\",380.48],[\"C0186\",\"Asia\",318.59],[\"C0187\",\"South America\",391.994],[\"C0188\",\"South America\",323.1125],[\"C0189\",\"North America\",217.66199999999998],[\"C0190\",\"South America\",220.37399999999997],[\"C0191\",\"South America\",283.184],[\"C0192\",\"South America\",286.09],[\"C0193\",\"Asia\",263.54],[\"C0194\",\"North America\",246.17428571428573],[\"C0195\",\"South America\",233.49166666666667],[\"C0196\",\"Europe\",416.9925],[\"C0197\",\"Europe\",227.0566666666667],[\"C0198\",\"Europe\",239.705],[\"C0199\",\"Europe\",250.61],[\"C0200\",\"Asia\",296.506]],\"hovertemplate\":\"PCA Component 1=%{x}\\u003cbr\\u003ePCA Component 2=%{y}\\u003cbr\\u003eCustomerID=%{customdata[0]}\\u003cbr\\u003eRegion=%{customdata[1]}\\u003cbr\\u003eavg_price=%{customdata[2]}\\u003cbr\\u003eCluster=%{marker.color}\\u003cextra\\u003e\\u003c\\u002fextra\\u003e\",\"legendgroup\":\"\",\"marker\":{\"color\":[2,3,3,1,4,5,5,1,4,3,2,1,1,3,4,5,1,2,2,4,1,2,5,2,3,5,2,1,3,2,4,3,3,2,2,4,2,2,2,5,1,5,3,5,1,1,2,5,2,5,1,2,2,1,2,2,2,4,1,3,4,3,3,2,1,5,2,1,2,2,3,2,4,5,1,2,3,5,5,4,2,1,3,1,5,2,1,2,5,2,3,2,1,3,3,5,3,2,1,5,1,1,2,1,2,2,2,1,1,4,3,3,1,5,5,2,2,2,3,4,3,1,4,2,5,2,2,4,4,4,4,4,4,3,2,2,2,5,2,4,1,3,1,3,1,5,2,2,2,4,3,2,2,2,1,1,3,5,4,2,2,1,1,2,1,4,4,5,2,5,5,2,1,2,1,3,4,2,2,2,2,2,2,5,4,5,1,2,2,2,4,2,2,2,5,4,4,4,2],\"coloraxis\":\"coloraxis\",\"symbol\":\"circle\"},\"mode\":\"markers\",\"name\":\"\",\"orientation\":\"v\",\"showlegend\":false,\"x\":[-0.02067929243540312,-1.2010298704263564,-0.9295681181642232,1.4479953870394466,-1.0487437241423603,0.2692664167793805,-0.5727629171400502,1.5692141971699098,-1.453240657525212,-1.510458254285515,0.18882726258756372,1.2474664073773938,1.771069420442061,-2.892053832702302,-1.3837907410554857,0.6942447464328828,1.1492170220743663,0.418755913760172,-0.3513825099461541,-1.9848256441309884,1.7826144773400054,0.774667003104674,1.4929880021821653,0.7547626022291137,-1.424373526340428,-0.06509888850902444,-0.8196273940587255,2.2297769453148812,-1.2356095537269116,-0.5830958417816947,-1.0291138541507823,-2.073877751554414,-3.387435546241745,-0.22128410297003584,-0.8049925566369945,-1.401080608482208,0.4193005737331845,-0.6272511898375467,0.32988307931997757,0.17715497348760334,1.5253600237318536,-0.3601783887202564,-1.8655171144710938,0.0372026039236232,1.5374470495289052,1.4820291257243532,0.2667973157476881,0.523110415355968,-0.09486640815318849,-0.17851964004409046,1.625975475387168,-0.7889206727338797,0.9116993543921965,2.8900067479243097,-0.43724017972776114,0.05107650530312097,0.6543713073915238,-1.782099101148366,2.6319811118998397,-3.5213340117656844,-1.0065620669008257,-1.5456733429430172,-1.9629822570851347,0.31662450319644614,3.076855936080571,0.14741344093508876,0.5886031151536204,1.7505130114167764,-0.18670402827114074,-0.389023892570551,-1.786062337663265,-0.47280890094003997,-1.2281935962712551,-0.2628796429618437,1.8320625121585703,-0.46267901211804835,-2.0600757296397902,-1.0895376160250225,0.4007697065893358,-1.8228159688266286,0.15182336843210198,2.5192569910606486,-2.023208307911264,1.3052074589249851,-0.5636865115738376,-0.37067908955374795,1.8935793433936772,-0.7034065964874722,-0.8428732046712385,0.7115115563427541,-0.4278737545515775,-0.3404647824669125,1.8622998193216993,-1.704569366159962,-1.968780504859495,1.4594043769889316,-3.0609920209945245,0.7233572425362292,2.30889197994962,1.2463818788648602,1.66019089309823,1.9999322754312632,-0.17825387649186325,2.332336735758838,0.7376765480151953,-0.35980397391440033,0.2039571052124267,1.0473814981957248,2.1784924082111976,-2.304783356761605,-1.2599989352732088,-1.477684435895339,1.1487765009535227,1.1491752958526538,-0.18509700727248643,0.13307433707330146,0.04021340869984592,0.46060384456862763,-1.174249799516386,-0.8516621611876087,-1.9811627619337175,1.288589688730028,-1.623785818598409,0.8418683930094235,-0.2886395979723116,0.8193067060896103,0.41765221731946134,-1.7542067347763324,-1.0645080806808649,-2.139207846154616,-0.9855000439018651,-1.266641983397845,-0.367088873143566,-0.7916380969379833,-0.29461683384013654,0.27608178845194964,0.017821212055710876,1.1418470157062701,1.0949702277811033,-1.413636421826646,4.735081125892339,-1.1292050859534144,1.563860997658142,-2.2053781609934715,1.8302691839814487,-0.34684390224560097,0.772876953687464,0.9159174307753374,0.38660347555840757,-2.1951852873899615,-3.3993995491676703,-0.060216332453040075,0.7736249832533761,0.5186027173778051,1.6497530477180389,3.416481879083513,-0.963243147117436,0.2908910012345274,-1.2451698318353548,-0.380218399913553,0.5914863557139493,1.3052942781271535,1.2716404407571156,-0.12840302197035133,2.0975783361828815,-0.8161451419261956,-0.9635360988028205,0.9087656550411922,0.33929125528786147,0.8002807161997988,0.866488113855679,-0.49676381720571144,1.8383742181293206,-0.41415662241905843,2.4502174056042514,-1.3780519255533443,-0.7179693401453534,-0.7746883382839564,0.2962477932687475,0.20754036600648346,0.5714697071426916,0.26017823753018626,0.8467168603824552,-0.10925402320990873,-1.0305725667902161,0.9809378749256851,2.4991777673927236,-0.5706588287991571,-0.42764768894211647,-0.13566563109601532,-0.7686209782167,-0.5112864778549879,0.611545593848177,0.3275439611664287,0.9468357702939681,-1.383489823571652,-1.9995656495548921,-0.9662346903060558,0.6019821143278918],\"xaxis\":\"x\",\"y\":[0.09160562787177966,-0.5997984513994296,-0.7804870117153987,-1.005167594914877,0.6684632629919064,0.9758777541426489,1.4220883484375781,-1.5077723830535243,0.774248219851176,-1.32161934882181,0.2734984885280188,-0.41650037439191845,0.2252926499890235,-0.6423113914179277,1.7071907342598487,1.5551690340971478,-1.1919617559287283,-0.23510681668263694,-0.5816280918448943,1.2769166384358073,-0.12277158645108284,-0.10340110173818737,1.3879174057432837,-0.045879387587684665,-0.9346807733439989,0.7733317396010478,-0.28709359733223183,-0.39680251653071835,-0.6133305547798908,-0.6215477990979507,-0.26736545805605383,-0.7485079691348694,-1.8493066021100992,-1.1928984573776036,-0.2726621699082171,-0.16346393533082199,0.3521414848729436,-0.9104051387011964,-0.9120794659618233,2.0227195728067873,-0.640703571125265,2.224724246938805,-0.6615878709645049,2.4419480645545613,-0.4645544813168538,-0.18648945039149406,-0.6002188270614057,1.0930546953345095,-2.041060924688201,2.0052061825152014,0.14465560589041865,-0.11656436133137754,-0.44472224552768597,0.1348400140088369,-0.5464983102106442,0.48620658851704973,-0.3151383075788258,2.4374930702198214,0.4694998048989014,-2.175549582400403,0.6736223877890749,-0.311936810635261,-0.18907605705188993,0.2950826101275538,-0.9627631943154172,2.126215098839938,-0.009483712482909978,-0.8015976986052487,0.14481904819864136,0.3183211040497643,-0.7333173509143801,-0.8050421454139934,0.12752469158690286,1.779662166318526,-1.4804625729489167,-0.038296994292699046,-0.891023159031195,3.7495108766667027,1.3243924416864588,1.6447809761006416,-0.6482226281780122,0.6186611611286184,-0.5705577340843525,-1.4246300817878885,1.4274852556431397,-0.24263210264326715,-0.09355275538191678,-0.5060637186449481,1.7015740189388389,-0.7350745294806791,-1.8534880679020809,0.5780821469606272,-0.7809608820968267,-1.265764768682019,-0.10166585440351461,1.3037930868055296,-0.9236534693544343,-0.6400323460586478,-0.05618917635961801,0.856358375739974,-0.6170416486076237,-0.2916164150059691,0.62959000012019,0.16191879879472634,-0.37759034029330435,-0.4159897375434951,0.4340828207601776,-0.563506229399162,-2.1394838954884428,0.34229742250539513,-1.913834748437104,-0.47222860903917263,-1.2577345240839575,0.7427504627669429,1.910782439125327,0.16597310273217009,0.5432024360782591,0.35171217949699146,-0.8042366136744498,0.7481652697089052,-1.8416170797123685,-0.12351619990049126,0.7541427138856117,-0.5029436304661651,0.7723803720922636,0.12299666146490244,0.45269965241947707,1.0761070431243134,0.28545391758567773,1.1919943072310177,0.9489414645571173,0.2495370160067876,0.6478494572844521,-1.359816979708637,0.5764178481031793,-1.131275820431368,0.2257371312296259,0.9102391608902544,-0.18412792035550077,0.8132201824076088,0.43452571822477803,-0.8115072743235888,-0.4144899547033506,-0.7990802357051104,-0.37579814873795975,1.052671516075895,-1.2905515408988222,0.43462025526466586,0.09060728859823958,1.0556055354390093,-1.9845219612783096,-0.05585491491910333,-0.205693730137644,0.21952817713851386,0.5686418197293924,-0.9854720491703194,-0.9601411771910131,1.6032905875070078,0.065965156660516,-0.46052179926762465,-0.9982301366542659,-0.8004017211700438,0.07397989689430298,0.07974003645963133,-1.6742244313951486,-0.10270846448520185,0.6168283043287496,1.885173230143036,-1.2103954591677486,0.6871435055712223,0.6395116894820101,-1.0138617948542323,-0.3933857057966015,-0.5185968264494787,-1.1413843020602539,-0.5996541839331496,0.06166926023202501,-0.32042020944713306,-0.35845552150994436,-0.2735740554885434,-0.019744431374370174,0.34392041583823424,0.47525353219002253,1.8092349375950714,1.0220606580305285,1.555878293281908,0.04860952688650133,-0.6896134201281788,-0.6578909025989941,0.15834632317554603,0.401062728362542,0.09823965918443911,-0.7224223975001025,-0.6936634978413043,2.072298346343167,-0.16940589841145884,0.20068246323889857,-0.059129562411523985,0.31322617478282105],\"yaxis\":\"y\",\"type\":\"scatter\"}],                        {\"template\":{\"data\":{\"histogram2dcontour\":[{\"type\":\"histogram2dcontour\",\"colorbar\":{\"outlinewidth\":0,\"ticks\":\"\"},\"colorscale\":[[0.0,\"#0d0887\"],[0.1111111111111111,\"#46039f\"],[0.2222222222222222,\"#7201a8\"],[0.3333333333333333,\"#9c179e\"],[0.4444444444444444,\"#bd3786\"],[0.5555555555555556,\"#d8576b\"],[0.6666666666666666,\"#ed7953\"],[0.7777777777777778,\"#fb9f3a\"],[0.8888888888888888,\"#fdca26\"],[1.0,\"#f0f921\"]]}],\"choropleth\":[{\"type\":\"choropleth\",\"colorbar\":{\"outlinewidth\":0,\"ticks\":\"\"}}],\"histogram2d\":[{\"type\":\"histogram2d\",\"colorbar\":{\"outlinewidth\":0,\"ticks\":\"\"},\"colorscale\":[[0.0,\"#0d0887\"],[0.1111111111111111,\"#46039f\"],[0.2222222222222222,\"#7201a8\"],[0.3333333333333333,\"#9c179e\"],[0.4444444444444444,\"#bd3786\"],[0.5555555555555556,\"#d8576b\"],[0.6666666666666666,\"#ed7953\"],[0.7777777777777778,\"#fb9f3a\"],[0.8888888888888888,\"#fdca26\"],[1.0,\"#f0f921\"]]}],\"heatmap\":[{\"type\":\"heatmap\",\"colorbar\":{\"outlinewidth\":0,\"ticks\":\"\"},\"colorscale\":[[0.0,\"#0d0887\"],[0.1111111111111111,\"#46039f\"],[0.2222222222222222,\"#7201a8\"],[0.3333333333333333,\"#9c179e\"],[0.4444444444444444,\"#bd3786\"],[0.5555555555555556,\"#d8576b\"],[0.6666666666666666,\"#ed7953\"],[0.7777777777777778,\"#fb9f3a\"],[0.8888888888888888,\"#fdca26\"],[1.0,\"#f0f921\"]]}],\"heatmapgl\":[{\"type\":\"heatmapgl\",\"colorbar\":{\"outlinewidth\":0,\"ticks\":\"\"},\"colorscale\":[[0.0,\"#0d0887\"],[0.1111111111111111,\"#46039f\"],[0.2222222222222222,\"#7201a8\"],[0.3333333333333333,\"#9c179e\"],[0.4444444444444444,\"#bd3786\"],[0.5555555555555556,\"#d8576b\"],[0.6666666666666666,\"#ed7953\"],[0.7777777777777778,\"#fb9f3a\"],[0.8888888888888888,\"#fdca26\"],[1.0,\"#f0f921\"]]}],\"contourcarpet\":[{\"type\":\"contourcarpet\",\"colorbar\":{\"outlinewidth\":0,\"ticks\":\"\"}}],\"contour\":[{\"type\":\"contour\",\"colorbar\":{\"outlinewidth\":0,\"ticks\":\"\"},\"colorscale\":[[0.0,\"#0d0887\"],[0.1111111111111111,\"#46039f\"],[0.2222222222222222,\"#7201a8\"],[0.3333333333333333,\"#9c179e\"],[0.4444444444444444,\"#bd3786\"],[0.5555555555555556,\"#d8576b\"],[0.6666666666666666,\"#ed7953\"],[0.7777777777777778,\"#fb9f3a\"],[0.8888888888888888,\"#fdca26\"],[1.0,\"#f0f921\"]]}],\"surface\":[{\"type\":\"surface\",\"colorbar\":{\"outlinewidth\":0,\"ticks\":\"\"},\"colorscale\":[[0.0,\"#0d0887\"],[0.1111111111111111,\"#46039f\"],[0.2222222222222222,\"#7201a8\"],[0.3333333333333333,\"#9c179e\"],[0.4444444444444444,\"#bd3786\"],[0.5555555555555556,\"#d8576b\"],[0.6666666666666666,\"#ed7953\"],[0.7777777777777778,\"#fb9f3a\"],[0.8888888888888888,\"#fdca26\"],[1.0,\"#f0f921\"]]}],\"mesh3d\":[{\"type\":\"mesh3d\",\"colorbar\":{\"outlinewidth\":0,\"ticks\":\"\"}}],\"scatter\":[{\"fillpattern\":{\"fillmode\":\"overlay\",\"size\":10,\"solidity\":0.2},\"type\":\"scatter\"}],\"parcoords\":[{\"type\":\"parcoords\",\"line\":{\"colorbar\":{\"outlinewidth\":0,\"ticks\":\"\"}}}],\"scatterpolargl\":[{\"type\":\"scatterpolargl\",\"marker\":{\"colorbar\":{\"outlinewidth\":0,\"ticks\":\"\"}}}],\"bar\":[{\"error_x\":{\"color\":\"#2a3f5f\"},\"error_y\":{\"color\":\"#2a3f5f\"},\"marker\":{\"line\":{\"color\":\"#E5ECF6\",\"width\":0.5},\"pattern\":{\"fillmode\":\"overlay\",\"size\":10,\"solidity\":0.2}},\"type\":\"bar\"}],\"scattergeo\":[{\"type\":\"scattergeo\",\"marker\":{\"colorbar\":{\"outlinewidth\":0,\"ticks\":\"\"}}}],\"scatterpolar\":[{\"type\":\"scatterpolar\",\"marker\":{\"colorbar\":{\"outlinewidth\":0,\"ticks\":\"\"}}}],\"histogram\":[{\"marker\":{\"pattern\":{\"fillmode\":\"overlay\",\"size\":10,\"solidity\":0.2}},\"type\":\"histogram\"}],\"scattergl\":[{\"type\":\"scattergl\",\"marker\":{\"colorbar\":{\"outlinewidth\":0,\"ticks\":\"\"}}}],\"scatter3d\":[{\"type\":\"scatter3d\",\"line\":{\"colorbar\":{\"outlinewidth\":0,\"ticks\":\"\"}},\"marker\":{\"colorbar\":{\"outlinewidth\":0,\"ticks\":\"\"}}}],\"scattermapbox\":[{\"type\":\"scattermapbox\",\"marker\":{\"colorbar\":{\"outlinewidth\":0,\"ticks\":\"\"}}}],\"scatterternary\":[{\"type\":\"scatterternary\",\"marker\":{\"colorbar\":{\"outlinewidth\":0,\"ticks\":\"\"}}}],\"scattercarpet\":[{\"type\":\"scattercarpet\",\"marker\":{\"colorbar\":{\"outlinewidth\":0,\"ticks\":\"\"}}}],\"carpet\":[{\"aaxis\":{\"endlinecolor\":\"#2a3f5f\",\"gridcolor\":\"white\",\"linecolor\":\"white\",\"minorgridcolor\":\"white\",\"startlinecolor\":\"#2a3f5f\"},\"baxis\":{\"endlinecolor\":\"#2a3f5f\",\"gridcolor\":\"white\",\"linecolor\":\"white\",\"minorgridcolor\":\"white\",\"startlinecolor\":\"#2a3f5f\"},\"type\":\"carpet\"}],\"table\":[{\"cells\":{\"fill\":{\"color\":\"#EBF0F8\"},\"line\":{\"color\":\"white\"}},\"header\":{\"fill\":{\"color\":\"#C8D4E3\"},\"line\":{\"color\":\"white\"}},\"type\":\"table\"}],\"barpolar\":[{\"marker\":{\"line\":{\"color\":\"#E5ECF6\",\"width\":0.5},\"pattern\":{\"fillmode\":\"overlay\",\"size\":10,\"solidity\":0.2}},\"type\":\"barpolar\"}],\"pie\":[{\"automargin\":true,\"type\":\"pie\"}]},\"layout\":{\"autotypenumbers\":\"strict\",\"colorway\":[\"#636efa\",\"#EF553B\",\"#00cc96\",\"#ab63fa\",\"#FFA15A\",\"#19d3f3\",\"#FF6692\",\"#B6E880\",\"#FF97FF\",\"#FECB52\"],\"font\":{\"color\":\"#2a3f5f\"},\"hovermode\":\"closest\",\"hoverlabel\":{\"align\":\"left\"},\"paper_bgcolor\":\"white\",\"plot_bgcolor\":\"#E5ECF6\",\"polar\":{\"bgcolor\":\"#E5ECF6\",\"angularaxis\":{\"gridcolor\":\"white\",\"linecolor\":\"white\",\"ticks\":\"\"},\"radialaxis\":{\"gridcolor\":\"white\",\"linecolor\":\"white\",\"ticks\":\"\"}},\"ternary\":{\"bgcolor\":\"#E5ECF6\",\"aaxis\":{\"gridcolor\":\"white\",\"linecolor\":\"white\",\"ticks\":\"\"},\"baxis\":{\"gridcolor\":\"white\",\"linecolor\":\"white\",\"ticks\":\"\"},\"caxis\":{\"gridcolor\":\"white\",\"linecolor\":\"white\",\"ticks\":\"\"}},\"coloraxis\":{\"colorbar\":{\"outlinewidth\":0,\"ticks\":\"\"}},\"colorscale\":{\"sequential\":[[0.0,\"#0d0887\"],[0.1111111111111111,\"#46039f\"],[0.2222222222222222,\"#7201a8\"],[0.3333333333333333,\"#9c179e\"],[0.4444444444444444,\"#bd3786\"],[0.5555555555555556,\"#d8576b\"],[0.6666666666666666,\"#ed7953\"],[0.7777777777777778,\"#fb9f3a\"],[0.8888888888888888,\"#fdca26\"],[1.0,\"#f0f921\"]],\"sequentialminus\":[[0.0,\"#0d0887\"],[0.1111111111111111,\"#46039f\"],[0.2222222222222222,\"#7201a8\"],[0.3333333333333333,\"#9c179e\"],[0.4444444444444444,\"#bd3786\"],[0.5555555555555556,\"#d8576b\"],[0.6666666666666666,\"#ed7953\"],[0.7777777777777778,\"#fb9f3a\"],[0.8888888888888888,\"#fdca26\"],[1.0,\"#f0f921\"]],\"diverging\":[[0,\"#8e0152\"],[0.1,\"#c51b7d\"],[0.2,\"#de77ae\"],[0.3,\"#f1b6da\"],[0.4,\"#fde0ef\"],[0.5,\"#f7f7f7\"],[0.6,\"#e6f5d0\"],[0.7,\"#b8e186\"],[0.8,\"#7fbc41\"],[0.9,\"#4d9221\"],[1,\"#276419\"]]},\"xaxis\":{\"gridcolor\":\"white\",\"linecolor\":\"white\",\"ticks\":\"\",\"title\":{\"standoff\":15},\"zerolinecolor\":\"white\",\"automargin\":true,\"zerolinewidth\":2},\"yaxis\":{\"gridcolor\":\"white\",\"linecolor\":\"white\",\"ticks\":\"\",\"title\":{\"standoff\":15},\"zerolinecolor\":\"white\",\"automargin\":true,\"zerolinewidth\":2},\"scene\":{\"xaxis\":{\"backgroundcolor\":\"#E5ECF6\",\"gridcolor\":\"white\",\"linecolor\":\"white\",\"showbackground\":true,\"ticks\":\"\",\"zerolinecolor\":\"white\",\"gridwidth\":2},\"yaxis\":{\"backgroundcolor\":\"#E5ECF6\",\"gridcolor\":\"white\",\"linecolor\":\"white\",\"showbackground\":true,\"ticks\":\"\",\"zerolinecolor\":\"white\",\"gridwidth\":2},\"zaxis\":{\"backgroundcolor\":\"#E5ECF6\",\"gridcolor\":\"white\",\"linecolor\":\"white\",\"showbackground\":true,\"ticks\":\"\",\"zerolinecolor\":\"white\",\"gridwidth\":2}},\"shapedefaults\":{\"line\":{\"color\":\"#2a3f5f\"}},\"annotationdefaults\":{\"arrowcolor\":\"#2a3f5f\",\"arrowhead\":0,\"arrowwidth\":1},\"geo\":{\"bgcolor\":\"white\",\"landcolor\":\"#E5ECF6\",\"subunitcolor\":\"white\",\"showland\":true,\"showlakes\":true,\"lakecolor\":\"white\"},\"title\":{\"x\":0.05},\"mapbox\":{\"style\":\"light\"}}},\"xaxis\":{\"anchor\":\"y\",\"domain\":[0.0,1.0],\"title\":{\"text\":\"PCA Component 1\"}},\"yaxis\":{\"anchor\":\"x\",\"domain\":[0.0,1.0],\"title\":{\"text\":\"PCA Component 2\"}},\"coloraxis\":{\"colorbar\":{\"title\":{\"text\":\"Cluster\"}},\"colorscale\":[[0.0,\"#0d0887\"],[0.1111111111111111,\"#46039f\"],[0.2222222222222222,\"#7201a8\"],[0.3333333333333333,\"#9c179e\"],[0.4444444444444444,\"#bd3786\"],[0.5555555555555556,\"#d8576b\"],[0.6666666666666666,\"#ed7953\"],[0.7777777777777778,\"#fb9f3a\"],[0.8888888888888888,\"#fdca26\"],[1.0,\"#f0f921\"]]},\"legend\":{\"tracegroupgap\":0},\"title\":{\"text\":\"Customer Segmentation with K-Means Clustering (PCA Reduced)\"}},                        {\"responsive\": true}                    ).then(function(){\n",
              "                            \n",
              "var gd = document.getElementById('e87dee7c-506d-4640-a725-2a087cf7bb74');\n",
              "var x = new MutationObserver(function (mutations, observer) {{\n",
              "        var display = window.getComputedStyle(gd).display;\n",
              "        if (!display || display === 'none') {{\n",
              "            console.log([gd, 'removed!']);\n",
              "            Plotly.purge(gd);\n",
              "            observer.disconnect();\n",
              "        }}\n",
              "}});\n",
              "\n",
              "// Listen for the removal of the full notebook cells\n",
              "var notebookContainer = gd.closest('#notebook-container');\n",
              "if (notebookContainer) {{\n",
              "    x.observe(notebookContainer, {childList: true});\n",
              "}}\n",
              "\n",
              "// Listen for the clearing of the current output cell\n",
              "var outputEl = gd.closest('.output');\n",
              "if (outputEl) {{\n",
              "    x.observe(outputEl, {childList: true});\n",
              "}}\n",
              "\n",
              "                        })                };                            </script>        </div>\n",
              "</body>\n",
              "</html>"
            ]
          },
          "metadata": {}
        }
      ]
    },
    {
      "cell_type": "markdown",
      "source": [
        "#Cluster Interpretation:\n",
        "\n",
        "Cluster 1: High spenders with frequent transactions.   \n",
        "Cluster 2: Moderate spenders with moderate transaction frequency.   \n",
        "Cluster 3: Low spenders with fewer transactions.   \n",
        "Cluster 4: Occasional high-price buyers with fewer transactions.   \n",
        "Cluster 5: Mid-range spenders with moderately high average\n",
        "transaction prices.   "
      ],
      "metadata": {
        "id": "XyMS4Pb_TION"
      }
    },
    {
      "cell_type": "markdown",
      "source": [
        " K-Means algorithm produced a good clustering result with a silhouette score of 0.94. This score suggests that the clusters are well-separated and distinct, indicating effective grouping of customers based on their profiles and transaction behavior. K-Means is a suitable choice for this dataset, particularly when the data follows a spherical or convex cluster pattern."
      ],
      "metadata": {
        "id": "FAe_BMdhMyEE"
      }
    },
    {
      "cell_type": "markdown",
      "source": [
        "#Customer Segmentation with DBSCAN Clustering"
      ],
      "metadata": {
        "id": "Q-HThaJ5MGpQ"
      }
    },
    {
      "cell_type": "code",
      "source": [
        "# DBSCAN Clustering\n",
        "# Adjust eps and min_samples for your dataset\n",
        "dbscan = DBSCAN(eps=0.5, min_samples=5)  # Adjust parameters for optimal clustering\n",
        "customer_profile['Cluster'] = dbscan.fit_predict(scaled_features)\n",
        "\n",
        "# Ensure cluster labels start from 1 (DBSCAN assigns -1 to outliers)\n",
        "customer_profile['Cluster'] = customer_profile['Cluster'] + 1\n",
        "\n",
        "# Calculate clustering metrics\n",
        "db_index = davies_bouldin_score(scaled_features, customer_profile['Cluster'])\n",
        "silhouette_avg = silhouette_score(scaled_features, customer_profile['Cluster'])\n",
        "\n",
        "# Print the clustering metrics\n",
        "print(f\"Number of Clusters: {customer_profile['Cluster'].nunique()}\")\n",
        "print(f\"DB Index: {db_index}\")\n",
        "print(f\"Silhouette Score: {silhouette_avg}\")\n",
        "\n"
      ],
      "metadata": {
        "colab": {
          "base_uri": "https://localhost:8080/"
        },
        "id": "2ZJsBQVuLvzG",
        "outputId": "68ac1567-583d-4d49-d493-117cf91d91ae"
      },
      "execution_count": 24,
      "outputs": [
        {
          "output_type": "stream",
          "name": "stdout",
          "text": [
            "Number of Clusters: 3\n",
            "DB Index: 7.888924736382755\n",
            "Silhouette Score: 0.08463096031893222\n"
          ]
        }
      ]
    },
    {
      "cell_type": "code",
      "source": [
        "\n",
        "# Cluster Profiling: Analyzing each cluster's characteristics\n",
        "cluster_profile = customer_profile.groupby('Cluster').agg(\n",
        "    avg_total_spending=('total_spending', 'mean'),\n",
        "    avg_num_transactions=('num_transactions', 'mean'),\n",
        "    avg_avg_price=('avg_price', 'mean')\n",
        ").reset_index()\n",
        "\n",
        "print(\"\\nCluster Profiling:\")\n",
        "print(cluster_profile)\n",
        "\n",
        "# PCA for dimensionality reduction (to reduce to 2D for visualization)\n",
        "pca = PCA(n_components=2)\n",
        "pca_components = pca.fit_transform(scaled_features)\n",
        "\n",
        "# Add the PCA components to the dataframe for visualization\n",
        "customer_profile['PCA1'] = pca_components[:, 0]\n",
        "customer_profile['PCA2'] = pca_components[:, 1]"
      ],
      "metadata": {
        "colab": {
          "base_uri": "https://localhost:8080/"
        },
        "id": "vVWfPGAhWEiH",
        "outputId": "fe72e4af-48e6-46d1-d5ce-63a87b18154d"
      },
      "execution_count": 25,
      "outputs": [
        {
          "output_type": "stream",
          "name": "stdout",
          "text": [
            "\n",
            "Cluster Profiling:\n",
            "   Cluster  avg_total_spending  avg_num_transactions  avg_avg_price\n",
            "0        0         3710.714186              5.651163     266.628186\n",
            "1        1         3518.479664              5.006711     271.754590\n",
            "2        2          883.054286              1.571429     303.226190\n"
          ]
        }
      ]
    },
    {
      "cell_type": "code",
      "source": [
        "\n",
        "# Visualize the clusters with an interactive plot using Plotly\n",
        "fig = px.scatter(customer_profile, x='PCA1', y='PCA2', color='Cluster',\n",
        "                 hover_data=['CustomerID', 'Region', 'avg_price'],\n",
        "                 title='Customer Segmentation with DBSCAN Clustering (PCA Reduced)',\n",
        "                 labels={'PCA1': 'PCA Component 1', 'PCA2': 'PCA Component 2'})\n",
        "\n",
        "# Show the plot\n",
        "fig.show()\n"
      ],
      "metadata": {
        "colab": {
          "base_uri": "https://localhost:8080/",
          "height": 542
        },
        "id": "LgS3jaBbV_dG",
        "outputId": "8d560024-f3e8-4bc1-9625-61cb0ba544d4"
      },
      "execution_count": 23,
      "outputs": [
        {
          "output_type": "display_data",
          "data": {
            "text/html": [
              "<html>\n",
              "<head><meta charset=\"utf-8\" /></head>\n",
              "<body>\n",
              "    <div>            <script src=\"https://cdnjs.cloudflare.com/ajax/libs/mathjax/2.7.5/MathJax.js?config=TeX-AMS-MML_SVG\"></script><script type=\"text/javascript\">if (window.MathJax && window.MathJax.Hub && window.MathJax.Hub.Config) {window.MathJax.Hub.Config({SVG: {font: \"STIX-Web\"}});}</script>                <script type=\"text/javascript\">window.PlotlyConfig = {MathJaxConfig: 'local'};</script>\n",
              "        <script charset=\"utf-8\" src=\"https://cdn.plot.ly/plotly-2.35.2.min.js\"></script>                <div id=\"18cb5460-4fde-46b0-b0a4-15ee2d9d53dc\" class=\"plotly-graph-div\" style=\"height:525px; width:100%;\"></div>            <script type=\"text/javascript\">                                    window.PLOTLYENV=window.PLOTLYENV || {};                                    if (document.getElementById(\"18cb5460-4fde-46b0-b0a4-15ee2d9d53dc\")) {                    Plotly.newPlot(                        \"18cb5460-4fde-46b0-b0a4-15ee2d9d53dc\",                        [{\"customdata\":[[\"C0001\",\"South America\",278.334],[\"C0002\",\"Asia\",208.92],[\"C0003\",\"South America\",195.70749999999998],[\"C0004\",\"South America\",240.63625000000002],[\"C0005\",\"Asia\",291.6033333333333],[\"C0006\",\"South America\",332.03499999999997],[\"C0007\",\"Asia\",350.02],[\"C0008\",\"North America\",231.16],[\"C0009\",\"Europe\",298.8333333333333],[\"C0010\",\"Europe\",153.27],[\"C0011\",\"South America\",292.628],[\"C0012\",\"South America\",270.7985714285714],[\"C0013\",\"South America\",320.79],[\"C0014\",\"Europe\",159.33],[\"C0015\",\"North America\",355.78999999999996],[\"C0016\",\"North America\",391.35],[\"C0017\",\"Europe\",225.785],[\"C0018\",\"North America\",254.33800000000002],[\"C0019\",\"Europe\",240.63333333333333],[\"C0020\",\"North America\",307.47],[\"C0021\",\"Asia\",308.57625],[\"C0022\",\"Asia\",279.3983333333333],[\"C0023\",\"Europe\",394.53666666666663],[\"C0024\",\"North America\",298.0314285714286],[\"C0025\",\"South America\",182.9375],[\"C0026\",\"North America\",315.91],[\"C0027\",\"Asia\",233.5375],[\"C0028\",\"Asia\",288.61125],[\"C0029\",\"North America\",207.8175],[\"C0030\",\"North America\",222.82399999999998],[\"C0031\",\"South America\",234.61],[\"C0032\",\"South America\",181.5],[\"C0033\",\"North America\",66.32],[\"C0034\",\"North America\",194.31333333333336],[\"C0035\",\"North America\",234.66750000000002],[\"C0036\",\"North America\",227.47333333333336],[\"C0037\",\"Europe\",299.096],[\"C0038\",\"North America\",200.71800000000002],[\"C0039\",\"South America\",216.85],[\"C0040\",\"Asia\",397.34],[\"C0041\",\"Europe\",254.28285714285715],[\"C0042\",\"North America\",411.62999999999994],[\"C0043\",\"Asia\",188.55333333333337],[\"C0044\",\"Europe\",429.00333333333333],[\"C0045\",\"Asia\",267.73285714285714],[\"C0046\",\"North America\",288.81142857142856],[\"C0047\",\"North America\",254.77857142857144],[\"C0048\",\"South America\",355.77799999999996],[\"C0049\",\"North America\",158.51125],[\"C0050\",\"North America\",395.2733333333333],[\"C0051\",\"Europe\",314.3457142857143],[\"C0052\",\"South America\",246.5975],[\"C0053\",\"Europe\",253.66666666666666],[\"C0054\",\"Asia\",330.48875],[\"C0055\",\"North America\",228.844],[\"C0056\",\"Asia\",308.556],[\"C0057\",\"Europe\",263.0133333333333],[\"C0058\",\"North America\",396.34],[\"C0059\",\"North America\",355.46375],[\"C0060\",\"Europe\",41.18],[\"C0061\",\"Europe\",292.0833333333333],[\"C0062\",\"Europe\",215.85999999999999],[\"C0063\",\"Europe\",210.075],[\"C0064\",\"Europe\",294.536],[\"C0065\",\"North America\",275.8],[\"C0066\",\"Europe\",405.1666666666667],[\"C0067\",\"North America\",286.17333333333335],[\"C0068\",\"North America\",256.77375],[\"C0069\",\"Europe\",282.048],[\"C0070\",\"Europe\",280.565],[\"C0071\",\"South America\",183.25],[\"C0072\",\"North America\",209.06599999999997],[\"C0073\",\"Europe\",250.00666666666666],[\"C0074\",\"Europe\",377.91],[\"C0075\",\"Europe\",219.49222222222224],[\"C0076\",\"South America\",267.524],[\"C0077\",\"South America\",170.66666666666666],[\"C0078\",\"Asia\",497.76],[\"C0079\",\"North America\",358.8675],[\"C0080\",\"Asia\",335.84],[\"C0081\",\"Europe\",236.59333333333333],[\"C0082\",\"South America\",352.31],[\"C0083\",\"South America\",195.16666666666666],[\"C0084\",\"Asia\",222.66333333333333],[\"C0085\",\"South America\",350.45],[\"C0086\",\"Europe\",252.14000000000001],[\"C0087\",\"South America\",296.74142857142857],[\"C0088\",\"Asia\",231.378],[\"C0089\",\"Europe\",356.475],[\"C0090\",\"Asia\",245.4157142857143],[\"C0091\",\"South America\",143.54166666666666],[\"C0092\",\"Asia\",300.4625],[\"C0093\",\"Asia\",272.8666666666667],[\"C0094\",\"North America\",157.1275],[\"C0095\",\"South America\",216.725],[\"C0096\",\"South America\",373.76599999999996],[\"C0097\",\"Asia\",137.54],[\"C0098\",\"North America\",266.97375],[\"C0099\",\"South America\",314.73375],[\"C0100\",\"Europe\",353.51666666666665],[\"C0101\",\"Asia\",270.65375],[\"C0102\",\"South America\",296.155],[\"C0103\",\"Europe\",319.012],[\"C0104\",\"South America\",331.405],[\"C0105\",\"Europe\",258.425],[\"C0106\",\"Asia\",238.95],[\"C0107\",\"South America\",304.898],[\"C0108\",\"South America\",259.18285714285713],[\"C0109\",\"North America\",198.5581818181818],[\"C0110\",\"Asia\",235.58],[\"C0111\",\"Europe\",122.94000000000001],[\"C0112\",\"South America\",203.78333333333333],[\"C0113\",\"South America\",220.77125],[\"C0114\",\"Europe\",330.368],[\"C0115\",\"Asia\",388.06333333333333],[\"C0116\",\"North America\",298.60833333333335],[\"C0117\",\"North America\",298.58750000000003],[\"C0118\",\"South America\",313.43833333333333],[\"C0119\",\"Europe\",207.68400000000003],[\"C0120\",\"South America\",298.0833333333333],[\"C0121\",\"Europe\",112.66999999999999],[\"C0122\",\"North America\",293.2128571428571],[\"C0123\",\"Asia\",282.65999999999997],[\"C0124\",\"Europe\",263.3757142857143],[\"C0125\",\"North America\",315.3775],[\"C0126\",\"South America\",296.745],[\"C0127\",\"Europe\",321.0466666666667],[\"C0128\",\"Asia\",306.93],[\"C0129\",\"South America\",262.38],[\"C0130\",\"South America\",300.68],[\"C0131\",\"North America\",313.10999999999996],[\"C0132\",\"Europe\",259.22666666666663],[\"C0133\",\"South America\",305.725],[\"C0134\",\"Asia\",166.128],[\"C0135\",\"Europe\",300.43],[\"C0136\",\"Asia\",200.03333333333333],[\"C0137\",\"South America\",288.63599999999997],[\"C0138\",\"Asia\",343.11800000000005],[\"C0139\",\"North America\",302.485],[\"C0140\",\"Asia\",287.59499999999997],[\"C0141\",\"Europe\",385.706],[\"C0142\",\"Asia\",192.9325],[\"C0143\",\"Asia\",271.60285714285715],[\"C0144\",\"North America\",163.08499999999998],[\"C0145\",\"Asia\",289.39],[\"C0146\",\"Asia\",336.62],[\"C0147\",\"South America\",231.78666666666666],[\"C0148\",\"South America\",306.404],[\"C0149\",\"Europe\",279.096],[\"C0150\",\"South America\",290.17],[\"C0151\",\"South America\",55.99],[\"C0152\",\"South America\",267.014],[\"C0153\",\"South America\",271.59999999999997],[\"C0154\",\"North America\",303.48333333333335],[\"C0155\",\"South America\",346.7085714285714],[\"C0156\",\"North America\",289.0581818181818],[\"C0157\",\"North America\",196.23600000000002],[\"C0158\",\"South America\",379.8975],[\"C0159\",\"Asia\",245.28],[\"C0160\",\"North America\",235.51400000000004],[\"C0161\",\"Asia\",239.4025],[\"C0162\",\"Asia\",255.94875000000002],[\"C0163\",\"South America\",293.94],[\"C0164\",\"Europe\",277.20799999999997],[\"C0165\",\"South America\",205.2711111111111],[\"C0166\",\"Europe\",247.5975],[\"C0167\",\"Europe\",287.8433333333333],[\"C0168\",\"South America\",402.6525],[\"C0169\",\"South America\",194.13333333333333],[\"C0170\",\"Europe\",325.412],[\"C0171\",\"South America\",321.918],[\"C0172\",\"Europe\",207.39166666666665],[\"C0173\",\"Asia\",288.06624999999997],[\"C0174\",\"South America\",231.01799999999997],[\"C0175\",\"Asia\",260.89700000000005],[\"C0176\",\"North America\",194.27666666666667],[\"C0177\",\"Asia\",260.3275],[\"C0178\",\"Asia\",231.09000000000003],[\"C0179\",\"Europe\",258.97499999999997],[\"C0181\",\"South America\",265.26166666666666],[\"C0182\",\"Europe\",271.066],[\"C0183\",\"North America\",298.142],[\"C0184\",\"South America\",337.93857142857144],[\"C0185\",\"North America\",380.48],[\"C0186\",\"Asia\",318.59],[\"C0187\",\"South America\",391.994],[\"C0188\",\"South America\",323.1125],[\"C0189\",\"North America\",217.66199999999998],[\"C0190\",\"South America\",220.37399999999997],[\"C0191\",\"South America\",283.184],[\"C0192\",\"South America\",286.09],[\"C0193\",\"Asia\",263.54],[\"C0194\",\"North America\",246.17428571428573],[\"C0195\",\"South America\",233.49166666666667],[\"C0196\",\"Europe\",416.9925],[\"C0197\",\"Europe\",227.0566666666667],[\"C0198\",\"Europe\",239.705],[\"C0199\",\"Europe\",250.61],[\"C0200\",\"Asia\",296.506]],\"hovertemplate\":\"PCA Component 1=%{x}\\u003cbr\\u003ePCA Component 2=%{y}\\u003cbr\\u003eCustomerID=%{customdata[0]}\\u003cbr\\u003eRegion=%{customdata[1]}\\u003cbr\\u003eavg_price=%{customdata[2]}\\u003cbr\\u003eCluster=%{marker.color}\\u003cextra\\u003e\\u003c\\u002fextra\\u003e\",\"legendgroup\":\"\",\"marker\":{\"color\":[1,1,1,1,1,1,1,0,2,1,1,1,1,0,0,0,1,1,1,2,1,1,0,1,1,1,1,1,1,1,1,1,0,0,1,1,1,1,1,1,1,1,1,1,1,1,0,0,0,1,1,1,1,0,1,1,1,0,0,0,1,1,1,1,0,1,1,1,1,1,1,1,1,1,0,1,1,0,0,2,1,0,1,1,1,1,1,1,1,1,0,1,1,1,1,0,0,0,1,0,1,1,1,1,1,1,1,1,0,0,0,1,1,1,1,1,1,1,1,1,0,1,2,1,1,1,1,2,1,2,1,1,1,1,1,1,1,1,0,1,0,1,1,0,1,1,0,1,1,2,0,1,1,1,1,0,1,1,1,1,0,1,1,1,0,1,1,0,1,1,1,0,1,1,0,1,1,1,1,1,1,1,0,1,1,0,1,1,1,1,1,1,1,1,0,1,0,1,1],\"coloraxis\":\"coloraxis\",\"symbol\":\"circle\"},\"mode\":\"markers\",\"name\":\"\",\"orientation\":\"v\",\"showlegend\":false,\"x\":[-0.02067929243540312,-1.2010298704263564,-0.9295681181642232,1.4479953870394466,-1.0487437241423603,0.2692664167793805,-0.5727629171400502,1.5692141971699098,-1.453240657525212,-1.510458254285515,0.18882726258756372,1.2474664073773938,1.771069420442061,-2.892053832702302,-1.3837907410554857,0.6942447464328828,1.1492170220743663,0.418755913760172,-0.3513825099461541,-1.9848256441309884,1.7826144773400054,0.774667003104674,1.4929880021821653,0.7547626022291137,-1.424373526340428,-0.06509888850902444,-0.8196273940587255,2.2297769453148812,-1.2356095537269116,-0.5830958417816947,-1.0291138541507823,-2.073877751554414,-3.387435546241745,-0.22128410297003584,-0.8049925566369945,-1.401080608482208,0.4193005737331845,-0.6272511898375467,0.32988307931997757,0.17715497348760334,1.5253600237318536,-0.3601783887202564,-1.8655171144710938,0.0372026039236232,1.5374470495289052,1.4820291257243532,0.2667973157476881,0.523110415355968,-0.09486640815318849,-0.17851964004409046,1.625975475387168,-0.7889206727338797,0.9116993543921965,2.8900067479243097,-0.43724017972776114,0.05107650530312097,0.6543713073915238,-1.782099101148366,2.6319811118998397,-3.5213340117656844,-1.0065620669008257,-1.5456733429430172,-1.9629822570851347,0.31662450319644614,3.076855936080571,0.14741344093508876,0.5886031151536204,1.7505130114167764,-0.18670402827114074,-0.389023892570551,-1.786062337663265,-0.47280890094003997,-1.2281935962712551,-0.2628796429618437,1.8320625121585703,-0.46267901211804835,-2.0600757296397902,-1.0895376160250225,0.4007697065893358,-1.8228159688266286,0.15182336843210198,2.5192569910606486,-2.023208307911264,1.3052074589249851,-0.5636865115738376,-0.37067908955374795,1.8935793433936772,-0.7034065964874722,-0.8428732046712385,0.7115115563427541,-0.4278737545515775,-0.3404647824669125,1.8622998193216993,-1.704569366159962,-1.968780504859495,1.4594043769889316,-3.0609920209945245,0.7233572425362292,2.30889197994962,1.2463818788648602,1.66019089309823,1.9999322754312632,-0.17825387649186325,2.332336735758838,0.7376765480151953,-0.35980397391440033,0.2039571052124267,1.0473814981957248,2.1784924082111976,-2.304783356761605,-1.2599989352732088,-1.477684435895339,1.1487765009535227,1.1491752958526538,-0.18509700727248643,0.13307433707330146,0.04021340869984592,0.46060384456862763,-1.174249799516386,-0.8516621611876087,-1.9811627619337175,1.288589688730028,-1.623785818598409,0.8418683930094235,-0.2886395979723116,0.8193067060896103,0.41765221731946134,-1.7542067347763324,-1.0645080806808649,-2.139207846154616,-0.9855000439018651,-1.266641983397845,-0.367088873143566,-0.7916380969379833,-0.29461683384013654,0.27608178845194964,0.017821212055710876,1.1418470157062701,1.0949702277811033,-1.413636421826646,4.735081125892339,-1.1292050859534144,1.563860997658142,-2.2053781609934715,1.8302691839814487,-0.34684390224560097,0.772876953687464,0.9159174307753374,0.38660347555840757,-2.1951852873899615,-3.3993995491676703,-0.060216332453040075,0.7736249832533761,0.5186027173778051,1.6497530477180389,3.416481879083513,-0.963243147117436,0.2908910012345274,-1.2451698318353548,-0.380218399913553,0.5914863557139493,1.3052942781271535,1.2716404407571156,-0.12840302197035133,2.0975783361828815,-0.8161451419261956,-0.9635360988028205,0.9087656550411922,0.33929125528786147,0.8002807161997988,0.866488113855679,-0.49676381720571144,1.8383742181293206,-0.41415662241905843,2.4502174056042514,-1.3780519255533443,-0.7179693401453534,-0.7746883382839564,0.2962477932687475,0.20754036600648346,0.5714697071426916,0.26017823753018626,0.8467168603824552,-0.10925402320990873,-1.0305725667902161,0.9809378749256851,2.4991777673927236,-0.5706588287991571,-0.42764768894211647,-0.13566563109601532,-0.7686209782167,-0.5112864778549879,0.611545593848177,0.3275439611664287,0.9468357702939681,-1.383489823571652,-1.9995656495548921,-0.9662346903060558,0.6019821143278918],\"xaxis\":\"x\",\"y\":[0.09160562787177966,-0.5997984513994296,-0.7804870117153987,-1.005167594914877,0.6684632629919064,0.9758777541426489,1.4220883484375781,-1.5077723830535243,0.774248219851176,-1.32161934882181,0.2734984885280188,-0.41650037439191845,0.2252926499890235,-0.6423113914179277,1.7071907342598487,1.5551690340971478,-1.1919617559287283,-0.23510681668263694,-0.5816280918448943,1.2769166384358073,-0.12277158645108284,-0.10340110173818737,1.3879174057432837,-0.045879387587684665,-0.9346807733439989,0.7733317396010478,-0.28709359733223183,-0.39680251653071835,-0.6133305547798908,-0.6215477990979507,-0.26736545805605383,-0.7485079691348694,-1.8493066021100992,-1.1928984573776036,-0.2726621699082171,-0.16346393533082199,0.3521414848729436,-0.9104051387011964,-0.9120794659618233,2.0227195728067873,-0.640703571125265,2.224724246938805,-0.6615878709645049,2.4419480645545613,-0.4645544813168538,-0.18648945039149406,-0.6002188270614057,1.0930546953345095,-2.041060924688201,2.0052061825152014,0.14465560589041865,-0.11656436133137754,-0.44472224552768597,0.1348400140088369,-0.5464983102106442,0.48620658851704973,-0.3151383075788258,2.4374930702198214,0.4694998048989014,-2.175549582400403,0.6736223877890749,-0.311936810635261,-0.18907605705188993,0.2950826101275538,-0.9627631943154172,2.126215098839938,-0.009483712482909978,-0.8015976986052487,0.14481904819864136,0.3183211040497643,-0.7333173509143801,-0.8050421454139934,0.12752469158690286,1.779662166318526,-1.4804625729489167,-0.038296994292699046,-0.891023159031195,3.7495108766667027,1.3243924416864588,1.6447809761006416,-0.6482226281780122,0.6186611611286184,-0.5705577340843525,-1.4246300817878885,1.4274852556431397,-0.24263210264326715,-0.09355275538191678,-0.5060637186449481,1.7015740189388389,-0.7350745294806791,-1.8534880679020809,0.5780821469606272,-0.7809608820968267,-1.265764768682019,-0.10166585440351461,1.3037930868055296,-0.9236534693544343,-0.6400323460586478,-0.05618917635961801,0.856358375739974,-0.6170416486076237,-0.2916164150059691,0.62959000012019,0.16191879879472634,-0.37759034029330435,-0.4159897375434951,0.4340828207601776,-0.563506229399162,-2.1394838954884428,0.34229742250539513,-1.913834748437104,-0.47222860903917263,-1.2577345240839575,0.7427504627669429,1.910782439125327,0.16597310273217009,0.5432024360782591,0.35171217949699146,-0.8042366136744498,0.7481652697089052,-1.8416170797123685,-0.12351619990049126,0.7541427138856117,-0.5029436304661651,0.7723803720922636,0.12299666146490244,0.45269965241947707,1.0761070431243134,0.28545391758567773,1.1919943072310177,0.9489414645571173,0.2495370160067876,0.6478494572844521,-1.359816979708637,0.5764178481031793,-1.131275820431368,0.2257371312296259,0.9102391608902544,-0.18412792035550077,0.8132201824076088,0.43452571822477803,-0.8115072743235888,-0.4144899547033506,-0.7990802357051104,-0.37579814873795975,1.052671516075895,-1.2905515408988222,0.43462025526466586,0.09060728859823958,1.0556055354390093,-1.9845219612783096,-0.05585491491910333,-0.205693730137644,0.21952817713851386,0.5686418197293924,-0.9854720491703194,-0.9601411771910131,1.6032905875070078,0.065965156660516,-0.46052179926762465,-0.9982301366542659,-0.8004017211700438,0.07397989689430298,0.07974003645963133,-1.6742244313951486,-0.10270846448520185,0.6168283043287496,1.885173230143036,-1.2103954591677486,0.6871435055712223,0.6395116894820101,-1.0138617948542323,-0.3933857057966015,-0.5185968264494787,-1.1413843020602539,-0.5996541839331496,0.06166926023202501,-0.32042020944713306,-0.35845552150994436,-0.2735740554885434,-0.019744431374370174,0.34392041583823424,0.47525353219002253,1.8092349375950714,1.0220606580305285,1.555878293281908,0.04860952688650133,-0.6896134201281788,-0.6578909025989941,0.15834632317554603,0.401062728362542,0.09823965918443911,-0.7224223975001025,-0.6936634978413043,2.072298346343167,-0.16940589841145884,0.20068246323889857,-0.059129562411523985,0.31322617478282105],\"yaxis\":\"y\",\"type\":\"scatter\"}],                        {\"template\":{\"data\":{\"histogram2dcontour\":[{\"type\":\"histogram2dcontour\",\"colorbar\":{\"outlinewidth\":0,\"ticks\":\"\"},\"colorscale\":[[0.0,\"#0d0887\"],[0.1111111111111111,\"#46039f\"],[0.2222222222222222,\"#7201a8\"],[0.3333333333333333,\"#9c179e\"],[0.4444444444444444,\"#bd3786\"],[0.5555555555555556,\"#d8576b\"],[0.6666666666666666,\"#ed7953\"],[0.7777777777777778,\"#fb9f3a\"],[0.8888888888888888,\"#fdca26\"],[1.0,\"#f0f921\"]]}],\"choropleth\":[{\"type\":\"choropleth\",\"colorbar\":{\"outlinewidth\":0,\"ticks\":\"\"}}],\"histogram2d\":[{\"type\":\"histogram2d\",\"colorbar\":{\"outlinewidth\":0,\"ticks\":\"\"},\"colorscale\":[[0.0,\"#0d0887\"],[0.1111111111111111,\"#46039f\"],[0.2222222222222222,\"#7201a8\"],[0.3333333333333333,\"#9c179e\"],[0.4444444444444444,\"#bd3786\"],[0.5555555555555556,\"#d8576b\"],[0.6666666666666666,\"#ed7953\"],[0.7777777777777778,\"#fb9f3a\"],[0.8888888888888888,\"#fdca26\"],[1.0,\"#f0f921\"]]}],\"heatmap\":[{\"type\":\"heatmap\",\"colorbar\":{\"outlinewidth\":0,\"ticks\":\"\"},\"colorscale\":[[0.0,\"#0d0887\"],[0.1111111111111111,\"#46039f\"],[0.2222222222222222,\"#7201a8\"],[0.3333333333333333,\"#9c179e\"],[0.4444444444444444,\"#bd3786\"],[0.5555555555555556,\"#d8576b\"],[0.6666666666666666,\"#ed7953\"],[0.7777777777777778,\"#fb9f3a\"],[0.8888888888888888,\"#fdca26\"],[1.0,\"#f0f921\"]]}],\"heatmapgl\":[{\"type\":\"heatmapgl\",\"colorbar\":{\"outlinewidth\":0,\"ticks\":\"\"},\"colorscale\":[[0.0,\"#0d0887\"],[0.1111111111111111,\"#46039f\"],[0.2222222222222222,\"#7201a8\"],[0.3333333333333333,\"#9c179e\"],[0.4444444444444444,\"#bd3786\"],[0.5555555555555556,\"#d8576b\"],[0.6666666666666666,\"#ed7953\"],[0.7777777777777778,\"#fb9f3a\"],[0.8888888888888888,\"#fdca26\"],[1.0,\"#f0f921\"]]}],\"contourcarpet\":[{\"type\":\"contourcarpet\",\"colorbar\":{\"outlinewidth\":0,\"ticks\":\"\"}}],\"contour\":[{\"type\":\"contour\",\"colorbar\":{\"outlinewidth\":0,\"ticks\":\"\"},\"colorscale\":[[0.0,\"#0d0887\"],[0.1111111111111111,\"#46039f\"],[0.2222222222222222,\"#7201a8\"],[0.3333333333333333,\"#9c179e\"],[0.4444444444444444,\"#bd3786\"],[0.5555555555555556,\"#d8576b\"],[0.6666666666666666,\"#ed7953\"],[0.7777777777777778,\"#fb9f3a\"],[0.8888888888888888,\"#fdca26\"],[1.0,\"#f0f921\"]]}],\"surface\":[{\"type\":\"surface\",\"colorbar\":{\"outlinewidth\":0,\"ticks\":\"\"},\"colorscale\":[[0.0,\"#0d0887\"],[0.1111111111111111,\"#46039f\"],[0.2222222222222222,\"#7201a8\"],[0.3333333333333333,\"#9c179e\"],[0.4444444444444444,\"#bd3786\"],[0.5555555555555556,\"#d8576b\"],[0.6666666666666666,\"#ed7953\"],[0.7777777777777778,\"#fb9f3a\"],[0.8888888888888888,\"#fdca26\"],[1.0,\"#f0f921\"]]}],\"mesh3d\":[{\"type\":\"mesh3d\",\"colorbar\":{\"outlinewidth\":0,\"ticks\":\"\"}}],\"scatter\":[{\"fillpattern\":{\"fillmode\":\"overlay\",\"size\":10,\"solidity\":0.2},\"type\":\"scatter\"}],\"parcoords\":[{\"type\":\"parcoords\",\"line\":{\"colorbar\":{\"outlinewidth\":0,\"ticks\":\"\"}}}],\"scatterpolargl\":[{\"type\":\"scatterpolargl\",\"marker\":{\"colorbar\":{\"outlinewidth\":0,\"ticks\":\"\"}}}],\"bar\":[{\"error_x\":{\"color\":\"#2a3f5f\"},\"error_y\":{\"color\":\"#2a3f5f\"},\"marker\":{\"line\":{\"color\":\"#E5ECF6\",\"width\":0.5},\"pattern\":{\"fillmode\":\"overlay\",\"size\":10,\"solidity\":0.2}},\"type\":\"bar\"}],\"scattergeo\":[{\"type\":\"scattergeo\",\"marker\":{\"colorbar\":{\"outlinewidth\":0,\"ticks\":\"\"}}}],\"scatterpolar\":[{\"type\":\"scatterpolar\",\"marker\":{\"colorbar\":{\"outlinewidth\":0,\"ticks\":\"\"}}}],\"histogram\":[{\"marker\":{\"pattern\":{\"fillmode\":\"overlay\",\"size\":10,\"solidity\":0.2}},\"type\":\"histogram\"}],\"scattergl\":[{\"type\":\"scattergl\",\"marker\":{\"colorbar\":{\"outlinewidth\":0,\"ticks\":\"\"}}}],\"scatter3d\":[{\"type\":\"scatter3d\",\"line\":{\"colorbar\":{\"outlinewidth\":0,\"ticks\":\"\"}},\"marker\":{\"colorbar\":{\"outlinewidth\":0,\"ticks\":\"\"}}}],\"scattermapbox\":[{\"type\":\"scattermapbox\",\"marker\":{\"colorbar\":{\"outlinewidth\":0,\"ticks\":\"\"}}}],\"scatterternary\":[{\"type\":\"scatterternary\",\"marker\":{\"colorbar\":{\"outlinewidth\":0,\"ticks\":\"\"}}}],\"scattercarpet\":[{\"type\":\"scattercarpet\",\"marker\":{\"colorbar\":{\"outlinewidth\":0,\"ticks\":\"\"}}}],\"carpet\":[{\"aaxis\":{\"endlinecolor\":\"#2a3f5f\",\"gridcolor\":\"white\",\"linecolor\":\"white\",\"minorgridcolor\":\"white\",\"startlinecolor\":\"#2a3f5f\"},\"baxis\":{\"endlinecolor\":\"#2a3f5f\",\"gridcolor\":\"white\",\"linecolor\":\"white\",\"minorgridcolor\":\"white\",\"startlinecolor\":\"#2a3f5f\"},\"type\":\"carpet\"}],\"table\":[{\"cells\":{\"fill\":{\"color\":\"#EBF0F8\"},\"line\":{\"color\":\"white\"}},\"header\":{\"fill\":{\"color\":\"#C8D4E3\"},\"line\":{\"color\":\"white\"}},\"type\":\"table\"}],\"barpolar\":[{\"marker\":{\"line\":{\"color\":\"#E5ECF6\",\"width\":0.5},\"pattern\":{\"fillmode\":\"overlay\",\"size\":10,\"solidity\":0.2}},\"type\":\"barpolar\"}],\"pie\":[{\"automargin\":true,\"type\":\"pie\"}]},\"layout\":{\"autotypenumbers\":\"strict\",\"colorway\":[\"#636efa\",\"#EF553B\",\"#00cc96\",\"#ab63fa\",\"#FFA15A\",\"#19d3f3\",\"#FF6692\",\"#B6E880\",\"#FF97FF\",\"#FECB52\"],\"font\":{\"color\":\"#2a3f5f\"},\"hovermode\":\"closest\",\"hoverlabel\":{\"align\":\"left\"},\"paper_bgcolor\":\"white\",\"plot_bgcolor\":\"#E5ECF6\",\"polar\":{\"bgcolor\":\"#E5ECF6\",\"angularaxis\":{\"gridcolor\":\"white\",\"linecolor\":\"white\",\"ticks\":\"\"},\"radialaxis\":{\"gridcolor\":\"white\",\"linecolor\":\"white\",\"ticks\":\"\"}},\"ternary\":{\"bgcolor\":\"#E5ECF6\",\"aaxis\":{\"gridcolor\":\"white\",\"linecolor\":\"white\",\"ticks\":\"\"},\"baxis\":{\"gridcolor\":\"white\",\"linecolor\":\"white\",\"ticks\":\"\"},\"caxis\":{\"gridcolor\":\"white\",\"linecolor\":\"white\",\"ticks\":\"\"}},\"coloraxis\":{\"colorbar\":{\"outlinewidth\":0,\"ticks\":\"\"}},\"colorscale\":{\"sequential\":[[0.0,\"#0d0887\"],[0.1111111111111111,\"#46039f\"],[0.2222222222222222,\"#7201a8\"],[0.3333333333333333,\"#9c179e\"],[0.4444444444444444,\"#bd3786\"],[0.5555555555555556,\"#d8576b\"],[0.6666666666666666,\"#ed7953\"],[0.7777777777777778,\"#fb9f3a\"],[0.8888888888888888,\"#fdca26\"],[1.0,\"#f0f921\"]],\"sequentialminus\":[[0.0,\"#0d0887\"],[0.1111111111111111,\"#46039f\"],[0.2222222222222222,\"#7201a8\"],[0.3333333333333333,\"#9c179e\"],[0.4444444444444444,\"#bd3786\"],[0.5555555555555556,\"#d8576b\"],[0.6666666666666666,\"#ed7953\"],[0.7777777777777778,\"#fb9f3a\"],[0.8888888888888888,\"#fdca26\"],[1.0,\"#f0f921\"]],\"diverging\":[[0,\"#8e0152\"],[0.1,\"#c51b7d\"],[0.2,\"#de77ae\"],[0.3,\"#f1b6da\"],[0.4,\"#fde0ef\"],[0.5,\"#f7f7f7\"],[0.6,\"#e6f5d0\"],[0.7,\"#b8e186\"],[0.8,\"#7fbc41\"],[0.9,\"#4d9221\"],[1,\"#276419\"]]},\"xaxis\":{\"gridcolor\":\"white\",\"linecolor\":\"white\",\"ticks\":\"\",\"title\":{\"standoff\":15},\"zerolinecolor\":\"white\",\"automargin\":true,\"zerolinewidth\":2},\"yaxis\":{\"gridcolor\":\"white\",\"linecolor\":\"white\",\"ticks\":\"\",\"title\":{\"standoff\":15},\"zerolinecolor\":\"white\",\"automargin\":true,\"zerolinewidth\":2},\"scene\":{\"xaxis\":{\"backgroundcolor\":\"#E5ECF6\",\"gridcolor\":\"white\",\"linecolor\":\"white\",\"showbackground\":true,\"ticks\":\"\",\"zerolinecolor\":\"white\",\"gridwidth\":2},\"yaxis\":{\"backgroundcolor\":\"#E5ECF6\",\"gridcolor\":\"white\",\"linecolor\":\"white\",\"showbackground\":true,\"ticks\":\"\",\"zerolinecolor\":\"white\",\"gridwidth\":2},\"zaxis\":{\"backgroundcolor\":\"#E5ECF6\",\"gridcolor\":\"white\",\"linecolor\":\"white\",\"showbackground\":true,\"ticks\":\"\",\"zerolinecolor\":\"white\",\"gridwidth\":2}},\"shapedefaults\":{\"line\":{\"color\":\"#2a3f5f\"}},\"annotationdefaults\":{\"arrowcolor\":\"#2a3f5f\",\"arrowhead\":0,\"arrowwidth\":1},\"geo\":{\"bgcolor\":\"white\",\"landcolor\":\"#E5ECF6\",\"subunitcolor\":\"white\",\"showland\":true,\"showlakes\":true,\"lakecolor\":\"white\"},\"title\":{\"x\":0.05},\"mapbox\":{\"style\":\"light\"}}},\"xaxis\":{\"anchor\":\"y\",\"domain\":[0.0,1.0],\"title\":{\"text\":\"PCA Component 1\"}},\"yaxis\":{\"anchor\":\"x\",\"domain\":[0.0,1.0],\"title\":{\"text\":\"PCA Component 2\"}},\"coloraxis\":{\"colorbar\":{\"title\":{\"text\":\"Cluster\"}},\"colorscale\":[[0.0,\"#0d0887\"],[0.1111111111111111,\"#46039f\"],[0.2222222222222222,\"#7201a8\"],[0.3333333333333333,\"#9c179e\"],[0.4444444444444444,\"#bd3786\"],[0.5555555555555556,\"#d8576b\"],[0.6666666666666666,\"#ed7953\"],[0.7777777777777778,\"#fb9f3a\"],[0.8888888888888888,\"#fdca26\"],[1.0,\"#f0f921\"]]},\"legend\":{\"tracegroupgap\":0},\"title\":{\"text\":\"Customer Segmentation with DBSCAN Clustering (PCA Reduced)\"}},                        {\"responsive\": true}                    ).then(function(){\n",
              "                            \n",
              "var gd = document.getElementById('18cb5460-4fde-46b0-b0a4-15ee2d9d53dc');\n",
              "var x = new MutationObserver(function (mutations, observer) {{\n",
              "        var display = window.getComputedStyle(gd).display;\n",
              "        if (!display || display === 'none') {{\n",
              "            console.log([gd, 'removed!']);\n",
              "            Plotly.purge(gd);\n",
              "            observer.disconnect();\n",
              "        }}\n",
              "}});\n",
              "\n",
              "// Listen for the removal of the full notebook cells\n",
              "var notebookContainer = gd.closest('#notebook-container');\n",
              "if (notebookContainer) {{\n",
              "    x.observe(notebookContainer, {childList: true});\n",
              "}}\n",
              "\n",
              "// Listen for the clearing of the current output cell\n",
              "var outputEl = gd.closest('.output');\n",
              "if (outputEl) {{\n",
              "    x.observe(outputEl, {childList: true});\n",
              "}}\n",
              "\n",
              "                        })                };                            </script>        </div>\n",
              "</body>\n",
              "</html>"
            ]
          },
          "metadata": {}
        }
      ]
    },
    {
      "cell_type": "markdown",
      "source": [
        "DBSCAN Clustering: On the other hand, DBSCAN yielded a high DB Index of 7.89, which suggests that the clusters formed are poorly separated, and the algorithm may not have captured meaningful groupings effectively. The high DB Index indicates that DBSCAN struggled with the dataset, likely due to issues related to parameter settings like eps and min_samples, or because the data doesn't have well-defined dense clusters that DBSCAN typically excels at identifying."
      ],
      "metadata": {
        "id": "MEbyhd96MmUz"
      }
    },
    {
      "cell_type": "markdown",
      "source": [
        "#Conclusion:\n",
        "In this customer segmentation analysis, two clustering algorithms—K-Means and DBSCAN—were applied to the dataset. The K-Means algorithm performed well, achieving a silhouette score of 0.94, indicating that the clusters were well-formed and distinct. This suggests that K-Means is suitable for this dataset, as it effectively grouped customers based on their profile and transaction data.\n",
        "\n",
        "On the other hand, DBSCAN struggled, yielding a high DB Index of 7.89, which suggests that the clusters were not well-separated. This could be due to DBSCAN’s sensitivity to parameter settings or the nature of the dataset not being ideal for DBSCAN's density-based approach.\n",
        "\n",
        "Overall, K-Means is the preferred method for this task, given its superior clustering performance. However, further fine-tuning of DBSCAN’s parameters might be explored if needed for datasets with varying cluster densities or shapes."
      ],
      "metadata": {
        "id": "hBtIuU2ENAys"
      }
    }
  ]
}